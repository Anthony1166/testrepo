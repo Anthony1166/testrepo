{
 "cells": [
  {
   "cell_type": "markdown",
   "metadata": {
    "tags": []
   },
   "source": [
    "# TRABAJO 1\n"
   ]
  },
  {
   "cell_type": "markdown",
   "metadata": {},
   "source": [
    "## Introducción\n",
    "\n",
    "Bienvenido a este cuaderno interactivo. En este cuaderno, exploraremos diversos temas relacionados con la ciencia de datos. Desde técnicas de visualización hasta algoritmos de aprendizaje automático, este cuaderno te guiará a través de conceptos importantes y te proporcionará la oportunidad de practicar con ejemplos prácticos."
   ]
  },
  {
   "cell_type": "markdown",
   "metadata": {},
   "source": [
    "### Lenguajes de la Ciencia de Datos:\n",
    "\n",
    "1. Python\n",
    "2. R\n",
    "3. SQL\n",
    "4. Julia\n",
    "5. Scala\n",
    "6. MATLAB\n",
    "7. Java (con bibliotecas como Weka)\n",
    "8. JavaScript (con bibliotecas como TensorFlow.js)"
   ]
  },
  {
   "cell_type": "markdown",
   "metadata": {
    "tags": []
   },
   "source": [
    "### Bibliotecas de Ciencia de Datos:\n",
    "\n",
    "- **Python:**\n",
    "  - Pandas\n",
    "  - NumPy\n",
    "  - Matplotlib\n",
    "  - Seaborn\n",
    "  - Scikit-learn\n",
    "  - TensorFlow\n",
    "  - PyTorch\n",
    "\n",
    "- **R:**\n",
    "  - dplyr\n",
    "  - ggplot2\n",
    "  - caret\n",
    "  - tidyr\n",
    "  - lubridate\n",
    "\n",
    "- **Julia:**\n",
    "  - DataFrames.jl\n",
    "  - Plots.jl\n",
    "  - Flux.jl\n"
   ]
  },
  {
   "cell_type": "markdown",
   "metadata": {},
   "source": [
    "### Herramientas de Ciencia de Datos:\n",
    "\n",
    "| Herramienta     | Descripción                                      |\n",
    "|-----------------|--------------------------------------------------|\n",
    "| Python          | Lenguaje de programación para análisis de datos. |\n",
    "| R               | Lenguaje estadístico y entorno de análisis.      |\n",
    "| Julia           | Lenguaje de programación de alto rendimiento.    |\n",
    "| Pandas          | Librería de Python para manipulación de datos.   |\n",
    "| NumPy           | Librería de Python para computación numérica.    |\n",
    "| Matplotlib      | Librería de Python para visualización.           |\n",
    "| Seaborn         | Librería de Python para visualización.           |\n",
    "| Scikit-learn    | Librería de Python para aprendizaje automático.  |\n",
    "| TensorFlow      | Plataforma de código abierto para IA.            |\n",
    "| PyTorch         | Librería de aprendizaje profundo.                |\n"
   ]
  },
  {
   "cell_type": "markdown",
   "metadata": {},
   "source": [
    "## Ejemplos de Expresiones Aritméticas\n",
    "\n",
    "- Suma: `2 + 3 = 5`\n",
    "- Resta: `10 - 5 = 5`\n",
    "- Multiplicación: `4 * 6 = 24`\n",
    "- División: `15 / 3 = 5`\n",
    "- Potenciación: `2^3 = 8`\n",
    "- Raíz Cuadrada: `√(9) = 3`\n"
   ]
  },
  {
   "cell_type": "code",
   "execution_count": 9,
   "metadata": {
    "tags": []
   },
   "outputs": [
    {
     "name": "stdout",
     "output_type": "stream",
     "text": [
      "El resultado de la multiplicación es: 15\n",
      "El resultado de la suma es: 8\n"
     ]
    }
   ],
   "source": [
    "# Multiplicación\n",
    "resultado_multiplicacion = 3 * 5\n",
    "print(\"El resultado de la multiplicación es:\", resultado_multiplicacion)\n",
    "\n",
    "# Suma\n",
    "resultado_suma = 3 + 5\n",
    "print(\"El resultado de la suma es:\", resultado_suma)\n"
   ]
  },
  {
   "cell_type": "code",
   "execution_count": 10,
   "metadata": {
    "tags": []
   },
   "outputs": [
    {
     "name": "stdout",
     "output_type": "stream",
     "text": [
      "120 minutos equivalen a 2.0 horas.\n"
     ]
    }
   ],
   "source": [
    "# Definir la cantidad de minutos\n",
    "minutos = 120\n",
    "\n",
    "# Convertir minutos a horas\n",
    "horas = minutos / 60\n",
    "\n",
    "# Imprimir el resultado\n",
    "print(minutos, \"minutos equivalen a\", horas, \"horas.\")\n"
   ]
  },
  {
   "cell_type": "code",
   "execution_count": 11,
   "metadata": {
    "tags": []
   },
   "outputs": [
    {
     "name": "stdout",
     "output_type": "stream",
     "text": [
      "Objetivos:\n",
      "- Aprender conceptos básicos de ciencia de datos.\n",
      "- Practicar con ejemplos de expresiones aritméticas.\n",
      "- Realizar conversiones de unidades.\n",
      "- Utilizar herramientas y bibliotecas de ciencia de datos.\n"
     ]
    }
   ],
   "source": [
    "# Listar los objetivos\n",
    "print(\"Objetivos:\")\n",
    "print(\"- Aprender conceptos básicos de ciencia de datos.\")\n",
    "print(\"- Practicar con ejemplos de expresiones aritméticas.\")\n",
    "print(\"- Realizar conversiones de unidades.\")\n",
    "print(\"- Utilizar herramientas y bibliotecas de ciencia de datos.\")\n"
   ]
  },
  {
   "cell_type": "markdown",
   "metadata": {},
   "source": [
    "## Autor\n",
    "\n",
    "El autor de este cuaderno es Anthony Crisósomo.\n"
   ]
  },
  {
   "cell_type": "code",
   "execution_count": null,
   "metadata": {},
   "outputs": [],
   "source": []
  }
 ],
 "metadata": {
  "kernelspec": {
   "display_name": "Python",
   "language": "python",
   "name": "conda-env-python-py"
  },
  "language_info": {
   "codemirror_mode": {
    "name": "ipython",
    "version": 3
   },
   "file_extension": ".py",
   "mimetype": "text/x-python",
   "name": "python",
   "nbconvert_exporter": "python",
   "pygments_lexer": "ipython3",
   "version": "3.7.12"
  }
 },
 "nbformat": 4,
 "nbformat_minor": 4
}
